{
 "cells": [
  {
   "cell_type": "markdown",
   "metadata": {},
   "source": [
    "# 7 - Multi-Agent\n",
    "- This example code utilizes the Crew AI framework to demonstrate multi-agent collaboration using Google Gemini. \n",
    "- It defines two distinct agents: a 'Senior Research Analyst' tasked with finding and summarizing AI trends, and a 'Technical Content Writer' responsible for creating a blog post. \n",
    "- Two tasks are set up, with the research task assigned to the researcher and the writing task assigned to the writer. Crucially, the writing task is configured to use the output of the research task as its context, establishing a sequential workflow. \n",
    "- A Crew is then instantiated with these agents and tasks, specifying a sequential process. Finally, crew.kickoff() executes the defined workflow, allowing the agents to collaborate by passing information from research to writing to produce the final blog post.\n",
    "\n",
    "- Note that Google models failed and OpenAI owrked as per this providers list - https://docs.litellm.ai/docs/providers\n"
   ]
  },
  {
   "cell_type": "code",
   "execution_count": 11,
   "metadata": {},
   "outputs": [],
   "source": [
    "import os\n",
    "from crewai import Agent, Task, Crew, Process\n",
    "from langchain_openai import ChatOpenAI\n",
    "\n",
    "# Verify if API key is present\n",
    "if not os.getenv('OPENAI_API_KEY'):\n",
    "    raise ValueError(\"OpenAI API key not found. Please check your .env file.\")\n",
    "\n",
    "# Define the language model to use (optional, defaults to env var)\n",
    "\n",
    "# If using OpenAI (default in CrewAI if OPENAI_API_KEY is set):\n",
    "llm = ChatOpenAI(model=\"gpt-4o-mini\") # Or other suitable mode"
   ]
  },
  {
   "cell_type": "code",
   "execution_count": 12,
   "metadata": {},
   "outputs": [],
   "source": [
    "# Define Agents with specific roles and goals\n",
    "\n",
    "# Agent 1: Researcher\n",
    "researcher = Agent(\n",
    "    role='Senior Research Analyst',\n",
    "    goal='Find and summarize the latest trends in AI.',\n",
    "    backstory=\"You are an experienced research analyst with a knack for identifying key trends and synthesizing information.\",\n",
    "    verbose=True,\n",
    "    allow_delegation=False, # This agent focuses on its own research\n",
    "    llm=llm # Using the defined Gemini LLM\n",
    ")\n",
    "\n",
    "# Agent 2: Writer\n",
    "writer = Agent(\n",
    "    role='Technical Content Writer',\n",
    "    goal='Write a clear and engaging blog post based on research findings.',\n",
    "    backstory=\"You are a skilled writer who can translate complex technical topics into accessible content.\",\n",
    "    verbose=True,\n",
    "    allow_delegation=False, # This agent focuses on writing\n",
    "    llm=llm # Using the defined Gemini LLM\n",
    ")"
   ]
  },
  {
   "cell_type": "code",
   "execution_count": 13,
   "metadata": {},
   "outputs": [],
   "source": [
    "# Define Tasks for the agents\n",
    "\n",
    "# Task 1: Research Task (assigned to researcher)\n",
    "research_task = Task(\n",
    "    description=\"Research the top 3 emerging trends in Artificial Intelligence in 2025. Focus on practical applications and potential impact.\",\n",
    "    expected_output=\"A detailed summary of the top 3 AI trends, including key points and sources (if applicable).\",\n",
    "    agent=researcher, # Assign this task to the researcher agent\n",
    ")\n",
    "\n",
    "# Task 2: Writing Task (assigned to writer)\n",
    "# This task depends on the output of the research_task\n",
    "writing_task = Task(\n",
    "    description=\"Write a 200-word blog post based on the research findings provided by the researcher. The post should be engaging and easy to understand for a general audience.\",\n",
    "    expected_output=\"A complete 500-word blog post about the latest AI trends.\",\n",
    "    agent=writer, # Assign this task to the writer agent\n",
    "    context=[research_task] # The writer needs the output of the research task\n",
    ")"
   ]
  },
  {
   "cell_type": "code",
   "execution_count": 14,
   "metadata": {},
   "outputs": [],
   "source": [
    "# Create the Crew with both agents and tasks\n",
    "# Process.sequential means tasks are executed in the order they appear in the tasks list\n",
    "crew = Crew(\n",
    "    agents=[researcher, writer],\n",
    "    tasks=[research_task, writing_task],\n",
    "    process=Process.sequential,\n",
    "    llm=llm # Using the defined Gemini LLM at the crew level as well\n",
    ")"
   ]
  },
  {
   "cell_type": "code",
   "execution_count": 15,
   "metadata": {},
   "outputs": [
    {
     "name": "stdout",
     "output_type": "stream",
     "text": [
      "## Running the multi-agent collaboration task ##\n",
      "\u001b[1m\u001b[95m# Agent:\u001b[00m \u001b[1m\u001b[92mSenior Research Analyst\u001b[00m\n",
      "\u001b[95m## Task:\u001b[00m \u001b[92mResearch the top 3 emerging trends in Artificial Intelligence in 2025. Focus on practical applications and potential impact.\u001b[00m\n",
      "\n",
      "\n",
      "\u001b[1m\u001b[95m# Agent:\u001b[00m \u001b[1m\u001b[92mSenior Research Analyst\u001b[00m\n",
      "\u001b[95m## Final Answer:\u001b[00m \u001b[92m\n",
      "In 2025, the landscape of Artificial Intelligence is poised for transformative changes across various sectors. Here are the top three emerging trends, highlighting their practical applications and potential impacts:\n",
      "\n",
      "1. **Generative AI Advancements**  \n",
      "   Generative AI has evolved significantly, moving beyond text and image generation to encompass interactive and multi-modal systems. Leveraging deep learning, especially in transformer models, organizations can create comprehensive content - from videos to audio - with minimal human intervention. For example, in creative industries, companies like OpenAI and Google Brain are developing tools that allow filmmakers and music producers to auto-generate scripts or melodies based on user input or past patterns. The potential impact includes a substantial increase in productivity and creativity, opening new avenues for artistic expression and reducing the time spent on initial drafts or conceptualization.\n",
      "\n",
      "2. **AI in Healthcare Diagnostics and Treatment**  \n",
      "   The integration of AI in healthcare has advanced significantly, particularly in diagnostics and personalized treatment plans. Machine learning algorithms are now adept at analyzing medical imaging, genomic data, and patient records to identify disease patterns and suggest treatment options tailored to individual patient profiles. For instance, platforms such as IBM Watson Health have shown successes in treating cancer by evaluating vast amounts of clinical trial data and medical literature to recommend the most effective therapies. The potential impact is immense, including improved patient outcomes, reduction in treatment costs, and enhanced operational efficiency within healthcare systems.\n",
      "\n",
      "3. **AI and Autonomous Systems for Smart Infrastructure**  \n",
      "   The implementation of AI in smart infrastructure is gaining momentum, focusing on increasing efficiency, safety, and environmental sustainability in urban planning and resource management. Autonomous systems, leveraging machine learning and real-time analytics, are instrumental in traffic management, energy distribution, and waste management. For instance, cities like Singapore and Barcelona are deploying AI-driven traffic sensors and smart grids to optimize traffic flows and energy consumption. The potential impact is profound, as these technologies can lead to reduced congestion, lower emissions, and more sustainable urban environments.\n",
      "\n",
      "In summary, the future of AI by 2025 is characterized by significant advancements in generative AI, revolutionary applications in healthcare, and the implementation of intelligent systems in infrastructure. Each trend carries substantial implications for productivity, ethical considerations, and economic adjustments, shaping a world increasingly influenced by AI technology.\u001b[00m\n",
      "\n",
      "\n",
      "\u001b[1m\u001b[95m# Agent:\u001b[00m \u001b[1m\u001b[92mTechnical Content Writer\u001b[00m\n",
      "\u001b[95m## Task:\u001b[00m \u001b[92mWrite a 200-word blog post based on the research findings provided by the researcher. The post should be engaging and easy to understand for a general audience.\u001b[00m\n",
      "\n",
      "\n",
      "\u001b[1m\u001b[95m# Agent:\u001b[00m \u001b[1m\u001b[92mTechnical Content Writer\u001b[00m\n",
      "\u001b[95m## Final Answer:\u001b[00m \u001b[92m\n",
      "As we venture into 2025, the world of Artificial Intelligence (AI) is on the cusp of groundbreaking transformations that promise to reshape various sectors, enhancing how we live and work. Here’s a closer look at three prominent trends that are setting the stage for the future of AI.\n",
      "\n",
      "**1. Generative AI Advancements**  \n",
      "Generative AI has rapidly transcended its initial capabilities, evolving from generating simple text and images to creating highly interactive and multi-modal content. With sophisticated deep learning techniques, particularly in transformer models, organizations are now able to produce rich content—including videos and audio—almost independently. Companies like OpenAI and Google Brain are at the forefront, providing tools that assist filmmakers and music producers in auto-generating scripts or melodies based on user inputs and historical patterns. This leap not only boosts productivity but also sparks creativity, enabling artists to explore new horizons in their craft while significantly reducing the time required for the creative process.\n",
      "\n",
      "**2. AI in Healthcare Diagnostics and Treatment**  \n",
      "The healthcare sector is witnessing a revolution driven by AI's remarkable ability to enhance diagnostics and personalize treatment plans. Advanced machine learning algorithms analyze vast datasets—medical imaging, genomic information, and patient records—to identify disease patterns and provide individualized treatment suggestions. Innovations like IBM Watson Health have successfully harnessed this technology to improve cancer treatment outcomes by sorting through extensive clinical trial data and medical literature to recommend optimal therapies. This integration leads to better patient care, lower treatment costs, and increased operational efficiency within healthcare facilities, ultimately transforming how we approach medicine.\n",
      "\n",
      "**3. AI and Autonomous Systems for Smart Infrastructure**  \n",
      "As cities evolve, the incorporation of AI into smart infrastructure is becoming increasingly vital. These technologies focus on enhancing efficiency, safety, and sustainability in urban environments. Autonomous systems, which utilize real-time analytics and machine learning, are pivotal in optimizing traffic management, energy distribution, and waste management. Cities like Singapore and Barcelona are implementing AI-driven solutions, such as smart traffic sensors and energy-efficient grids, to improve traffic flow and minimize energy wastage. This trend holds the promise of alleviating congestion, cutting emissions, and creating more livable, sustainable urban spaces.\n",
      "\n",
      "In conclusion, the landscape of AI by 2025 is defined by remarkable advancements in generative capabilities, transformative applications in healthcare, and the strategic use of intelligent systems in urban infrastructure. Each of these trends highlights the profound implications for productivity, ethical considerations, and economic adjustments in our increasingly AI-influenced world. As these technologies continue to evolve, they will play a crucial role in shaping our future, driving innovation, and reimagining the possibilities of human creativity and efficiency. Embrace the possibilities—this is just the beginning of an AI-powered revolution!\u001b[00m\n",
      "\n",
      "\n",
      "\n",
      "## Crew Output ##\n",
      "As we venture into 2025, the world of Artificial Intelligence (AI) is on the cusp of groundbreaking transformations that promise to reshape various sectors, enhancing how we live and work. Here’s a closer look at three prominent trends that are setting the stage for the future of AI.\n",
      "\n",
      "**1. Generative AI Advancements**  \n",
      "Generative AI has rapidly transcended its initial capabilities, evolving from generating simple text and images to creating highly interactive and multi-modal content. With sophisticated deep learning techniques, particularly in transformer models, organizations are now able to produce rich content—including videos and audio—almost independently. Companies like OpenAI and Google Brain are at the forefront, providing tools that assist filmmakers and music producers in auto-generating scripts or melodies based on user inputs and historical patterns. This leap not only boosts productivity but also sparks creativity, enabling artists to explore new horizons in their craft while significantly reducing the time required for the creative process.\n",
      "\n",
      "**2. AI in Healthcare Diagnostics and Treatment**  \n",
      "The healthcare sector is witnessing a revolution driven by AI's remarkable ability to enhance diagnostics and personalize treatment plans. Advanced machine learning algorithms analyze vast datasets—medical imaging, genomic information, and patient records—to identify disease patterns and provide individualized treatment suggestions. Innovations like IBM Watson Health have successfully harnessed this technology to improve cancer treatment outcomes by sorting through extensive clinical trial data and medical literature to recommend optimal therapies. This integration leads to better patient care, lower treatment costs, and increased operational efficiency within healthcare facilities, ultimately transforming how we approach medicine.\n",
      "\n",
      "**3. AI and Autonomous Systems for Smart Infrastructure**  \n",
      "As cities evolve, the incorporation of AI into smart infrastructure is becoming increasingly vital. These technologies focus on enhancing efficiency, safety, and sustainability in urban environments. Autonomous systems, which utilize real-time analytics and machine learning, are pivotal in optimizing traffic management, energy distribution, and waste management. Cities like Singapore and Barcelona are implementing AI-driven solutions, such as smart traffic sensors and energy-efficient grids, to improve traffic flow and minimize energy wastage. This trend holds the promise of alleviating congestion, cutting emissions, and creating more livable, sustainable urban spaces.\n",
      "\n",
      "In conclusion, the landscape of AI by 2025 is defined by remarkable advancements in generative capabilities, transformative applications in healthcare, and the strategic use of intelligent systems in urban infrastructure. Each of these trends highlights the profound implications for productivity, ethical considerations, and economic adjustments in our increasingly AI-influenced world. As these technologies continue to evolve, they will play a crucial role in shaping our future, driving innovation, and reimagining the possibilities of human creativity and efficiency. Embrace the possibilities—this is just the beginning of an AI-powered revolution!\n"
     ]
    }
   ],
   "source": [
    "# Execute the Crew\n",
    "print(\"## Running the multi-agent collaboration task ##\")\n",
    "result = crew.kickoff()\n",
    "\n",
    "print(\"\\n## Crew Output ##\")\n",
    "print(result)"
   ]
  },
  {
   "cell_type": "code",
   "execution_count": null,
   "metadata": {},
   "outputs": [],
   "source": []
  }
 ],
 "metadata": {
  "kernelspec": {
   "display_name": ".venv",
   "language": "python",
   "name": "python3"
  },
  "language_info": {
   "codemirror_mode": {
    "name": "ipython",
    "version": 3
   },
   "file_extension": ".py",
   "mimetype": "text/x-python",
   "name": "python",
   "nbconvert_exporter": "python",
   "pygments_lexer": "ipython3",
   "version": "3.11.8"
  }
 },
 "nbformat": 4,
 "nbformat_minor": 2
}
