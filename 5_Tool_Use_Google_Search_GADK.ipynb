{
 "cells": [
  {
   "cell_type": "markdown",
   "metadata": {},
   "source": [
    "# 5 - Tool Use\n",
    "- Now let's see how to use pre-built tools in Google ADK.\n",
    "- First example is with Google Search pre-built tool. The google_search tool enables the agent to conduct web searches via Google Search.\n",
    "\n",
    "This Google ADK code sets up a basic agent capable of performing web searches. It defines a basic_search_agent, assigning it a Gemini model and the pre-built Google Search tool. The necessary ADK session and runner services are initialized to manage the agent's execution. A helper function call_agent is used to simulate a user query being sent to the runner. When executed, the agent processes the query, uses the Google Search tool to find information online, and provides a final response based on the search results."
   ]
  },
  {
   "cell_type": "code",
   "execution_count": 1,
   "metadata": {},
   "outputs": [],
   "source": [
    "from google.adk.agents import Agent\n",
    "from google.adk.runners import Runner\n",
    "from google.adk.sessions import InMemorySessionService\n",
    "from google.adk.tools import google_search\n",
    "from google.genai import types\n",
    "\n",
    "APP_NAME=\"google_search_agent\"\n",
    "USER_ID=\"user1234\"\n",
    "SESSION_ID=\"1234\""
   ]
  },
  {
   "cell_type": "code",
   "execution_count": 2,
   "metadata": {},
   "outputs": [
    {
     "name": "stdout",
     "output_type": "stream",
     "text": [
      "Agent Response:  Here's a summary of the latest AI news:\n",
      "\n",
      "**AI Developments and Applications**\n",
      "\n",
      "*   **Google's AI Initiatives:** Google is actively integrating AI across various applications, including visual search, cloud services, education, and cybersecurity. They are also exploring AI's potential in decoding dolphin communication and optimizing electrical grids.\n",
      "*   **AI for Video Creation:** Hybrid AI models are now capable of crafting smooth, high-quality videos in seconds.\n",
      "*   **AI in Healthcare:** There is a focus on revolutionizing healthcare through data-driven innovation.\n",
      "*   **AI for Cybersecurity:** An experimental AI model, Sec-Gemini v1, is being developed to improve cybersecurity.\n",
      "\n",
      "**AI Research and Innovation**\n",
      "\n",
      "*   **New AI Models:** Mistral has announced a new AI model, Medium 3, at a lower cost.\n",
      "*   **Neuromorphic Computing:** The UK is establishing a Multidisciplinary Centre for Neuromorphic Computing at Aston University.\n",
      "*   **Reinforcement Learning:** New tools are being developed to evaluate progress in reinforcement learning.\n",
      "\n",
      "**AI Industry News**\n",
      "\n",
      "*   **AI Chips:** NVIDIA is reportedly sending 18,000 AI chips to Saudi Arabia for a new data center project.\n",
      "*   **AI and Copyright:** The UK government's AI bill is facing opposition from artists concerned about copyright issues.\n",
      "\n",
      "**AI Policy and Ethics**\n",
      "\n",
      "*   **EU AI Strategy:** The EU is moving forward with its AI Act, promoting ethical AI use and innovation. The EU and Japan are also strengthening their tech and digital partnership to bolster economic security through digital innovation.\n",
      "*   **Council of Europe:** The Council of Europe is addressing the risks of AI to human rights.\n",
      "\n",
      "**Other News**\n",
      "\n",
      "*   **ASI vs AGI:** SoftBank's chief believes Artificial Superintelligence (ASI) will emerge within 10 years, sooner than Artificial General Intelligence (AGI).\n",
      "*   **AI in the Workplace:** A KPMG study indicates that 76% of Indian employees are willing to trust AI, with 90% reporting increased efficiency.\n"
     ]
    }
   ],
   "source": [
    "root_agent = Agent(\n",
    "    name=\"basic_search_agent\",\n",
    "    model=\"gemini-2.0-flash\",\n",
    "    description=\"Agent to answer questions using Google Search.\",\n",
    "    instruction=\"I can answer your questions by searching the internet. Just ask me anything!\",\n",
    "    # google_search is a pre-built tool which allows the agent to perform Google searches.\n",
    "    tools=[google_search]\n",
    ")\n",
    "\n",
    "# Session and Runner\n",
    "session_service = InMemorySessionService()\n",
    "session = session_service.create_session(app_name=APP_NAME, user_id=USER_ID, session_id=SESSION_ID)\n",
    "runner = Runner(agent=root_agent, app_name=APP_NAME, session_service=session_service)\n",
    "\n",
    "\n",
    "# Agent Interaction\n",
    "def call_agent(query):\n",
    "    \"\"\"\n",
    "    Helper function to call the agent with a query.\n",
    "    \"\"\"\n",
    "    content = types.Content(role='user', parts=[types.Part(text=query)])\n",
    "    events = runner.run(user_id=USER_ID, session_id=SESSION_ID, new_message=content)\n",
    "\n",
    "    for event in events:\n",
    "        if event.is_final_response():\n",
    "            final_response = event.content.parts[0].text\n",
    "            print(\"Agent Response: \", final_response)\n",
    "\n",
    "call_agent(\"what's the latest ai news?\")"
   ]
  },
  {
   "cell_type": "code",
   "execution_count": null,
   "metadata": {},
   "outputs": [],
   "source": []
  }
 ],
 "metadata": {
  "kernelspec": {
   "display_name": ".venv",
   "language": "python",
   "name": "python3"
  },
  "language_info": {
   "codemirror_mode": {
    "name": "ipython",
    "version": 3
   },
   "file_extension": ".py",
   "mimetype": "text/x-python",
   "name": "python",
   "nbconvert_exporter": "python",
   "pygments_lexer": "ipython3",
   "version": "3.11.8"
  }
 },
 "nbformat": 4,
 "nbformat_minor": 2
}
