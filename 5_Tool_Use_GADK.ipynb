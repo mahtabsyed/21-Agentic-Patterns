{
 "cells": [
  {
   "cell_type": "markdown",
   "metadata": {},
   "source": [
    "# 5 - Tool Use\n",
    "- Now let's see how to use pre-built tools in Google ADK.\n",
    "- Google Search pre-built tool\n",
    "- First example is with Google Search. The google_search tool enables the agent to conduct web searches via Google Search.\n",
    "\n"
   ]
  },
  {
   "cell_type": "code",
   "execution_count": null,
   "metadata": {},
   "outputs": [],
   "source": [
    "import os\n",
    "import asyncio\n",
    "from typing import List, Dict, Any\n",
    "\n",
    "# from langchain_openai import ChatOpenAI # Commented out to default to Google\n",
    "from langchain_google_genai import ChatGoogleGenerativeAI # Uncommented for Google Gemini\n",
    "from langchain_core.prompts import ChatPromptTemplate\n",
    "from langchain_core.output_parsers import StrOutputParser\n",
    "from langchain_core.tools import tool # Decorator to easily define tools\n",
    "from langchain.agents import create_tool_calling_agent, AgentExecutor # Components for creating a tool-calling agent"
   ]
  },
  {
   "cell_type": "code",
   "execution_count": null,
   "metadata": {},
   "outputs": [
    {
     "name": "stdout",
     "output_type": "stream",
     "text": [
      "Embrace the glorious mess that you are.\n",
      "\n"
     ]
    }
   ],
   "source": [
    "import os\n",
    "from dotenv import load_dotenv\n",
    "from google import genai\n",
    "\n",
    "\n",
    "# Load environment variables from .env file\n",
    "load_dotenv()\n",
    "# Using Google GenAI\n",
    "# Verify if API key is present\n",
    "if not os.getenv('GOOGLE_API_KEY'):\n",
    "    raise ValueError(\"Google API key not found. Please check your .env file.\")\n",
    "else:\n",
    "    client = genai.Client(api_key=os.getenv('GOOGLE_API_KEY'))\n",
    "    response = client.models.generate_content(\n",
    "        model=\"gemini-2.0-flash\", contents=\"Write a random small 1 line Thought of the day!\"\n",
    "        # model=\"gemini-2.5-pro-preview-05-06\", contents=\"Write a random small 1 line Thought of the day!\"\n",
    "    )\n",
    "    print(response.text)"
   ]
  }
 ],
 "metadata": {
  "language_info": {
   "name": "python"
  }
 },
 "nbformat": 4,
 "nbformat_minor": 2
}
